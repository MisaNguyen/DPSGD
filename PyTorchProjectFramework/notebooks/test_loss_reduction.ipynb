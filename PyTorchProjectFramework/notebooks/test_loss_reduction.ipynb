{
 "cells": [
  {
   "cell_type": "code",
   "execution_count": 8,
   "metadata": {},
   "outputs": [],
   "source": [
    "import torch\n",
    "import torch.nn as nn\n",
    "import torch.nn.functional as F\n",
    "import torch.optim as optim\n"
   ]
  },
  {
   "cell_type": "code",
   "execution_count": 50,
   "metadata": {},
   "outputs": [
    {
     "name": "stdout",
     "output_type": "stream",
     "text": [
      "output: torch.Size([2, 3, 224, 224])\n",
      "target:  torch.Size([2, 224, 224])\n",
      "target nelement:  100352\n",
      "100352\n",
      "loss_mean tensor(1.3926)\n",
      "loss_sum tensor(139753.7969)\n",
      "tensor(0.)\n"
     ]
    }
   ],
   "source": [
    "\n",
    "criterion_mean = nn.CrossEntropyLoss(reduction='mean')\n",
    "criterion_sum = nn.CrossEntropyLoss(reduction='sum')\n",
    "\n",
    "\n",
    "output = torch.randn(2, 3, 224, 224)\n",
    "target = torch.randint(0, 3, (2, 224, 224))\n",
    "\n",
    "print(\"output:\", output.shape)\n",
    "print(\"target: \", target.shape)\n",
    "print(\"target nelement: \", target.nelement())\n",
    "print(2*224*224)\n",
    "\n",
    "loss_mean = criterion_mean(output, target)\n",
    "loss_sum = criterion_sum(output, target)\n",
    "print(\"loss_mean\",loss_mean)\n",
    "print(\"loss_sum\",loss_sum)\n",
    "print(loss_mean - (loss_sum / target.nelement()))"
   ]
  },
  {
   "cell_type": "code",
   "execution_count": 11,
   "metadata": {},
   "outputs": [],
   "source": [
    "# model\n",
    "class Net(nn.Module):\n",
    "    def __init__(self):\n",
    "        super().__init__()\n",
    "        self.conv1 = nn.Conv2d(3, 16, kernel_size=3, padding=1)\n",
    "        self.conv2 = nn.Conv2d(16, 8, kernel_size=3, padding=1)\n",
    "        self.fc1 = nn.Linear(8 * 8 * 8, 32)\n",
    "        # bài toán phân loại 10 lớp nên output ra 10 nodes\n",
    "        self.fc2 = nn.Linear(32, 10)\n",
    "\n",
    "    def forward(self, x):\n",
    "        out = F.max_pool2d(torch.tanh(self.conv1(x)), 2)\n",
    "        out = F.max_pool2d(torch.tanh(self.conv2(out)), 2)\n",
    "        # flatten về dạng vector để cho vào neural network\n",
    "        out = out.view(-1, 8 * 8 * 8)\n",
    "        out = torch.tanh(self.fc1(out))\n",
    "        out = self.fc2(out)\n",
    "        return out"
   ]
  },
  {
   "cell_type": "code",
   "execution_count": 48,
   "metadata": {},
   "outputs": [
    {
     "name": "stdout",
     "output_type": "stream",
     "text": [
      "input: torch.Size([3, 32, 32])\n",
      "target tensor([[0., 0., 0., 0., 0., 0., 0., 0., 0., 1.]])\n",
      "target shape torch.Size([1, 10])\n",
      "pred tensor([[ 0.1221, -0.0141, -0.1605,  0.1556, -0.1914, -0.0469, -0.1810,  0.1189,\n",
      "          0.2577, -0.1866]], grad_fn=<AddmmBackward0>)\n",
      "pred shape torch.Size([1, 10])\n",
      "loss_mean tensor(2.4893, grad_fn=<DivBackward1>)\n",
      "loss_sum tensor(2.4893, grad_fn=<NegBackward0>)\n",
      "10\n"
     ]
    }
   ],
   "source": [
    "model = Net()\n",
    "criterion_mean = nn.CrossEntropyLoss(reduction='mean')\n",
    "criterion_sum = nn.CrossEntropyLoss(reduction='sum')\n",
    "\n",
    "input = torch.randn(3, 32, 32)\n",
    "print(\"input:\", input.shape)\n",
    "\n",
    "# target = torch.randint(0, 10, (1, 10))\n",
    "target = torch.tensor([[0.0, 0.0, 0.0, 0.0, 0.0, 0.0, 0.0, 0.0, 0.0, 1.0]])\n",
    "print(\"target\",target)\n",
    "print(\"target shape\",target.shape)\n",
    "\n",
    "pred = model(input)\n",
    "print(\"pred\", pred)\n",
    "print(\"pred shape\", pred.shape)\n",
    "\n",
    "loss_mean = criterion_mean(pred, target)\n",
    "loss_sum = criterion_sum(pred, target)\n",
    "print(\"loss_mean\", loss_mean)\n",
    "print(\"loss_sum\", loss_sum)\n",
    "\n",
    "print(target.nelement())\n"
   ]
  }
 ],
 "metadata": {
  "kernelspec": {
   "display_name": "Python 3",
   "language": "python",
   "name": "python3"
  },
  "language_info": {
   "codemirror_mode": {
    "name": "ipython",
    "version": 3
   },
   "file_extension": ".py",
   "mimetype": "text/x-python",
   "name": "python",
   "nbconvert_exporter": "python",
   "pygments_lexer": "ipython3",
   "version": "3.12.4"
  }
 },
 "nbformat": 4,
 "nbformat_minor": 2
}
