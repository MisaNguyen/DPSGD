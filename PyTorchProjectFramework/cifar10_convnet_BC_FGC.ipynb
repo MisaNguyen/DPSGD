{
 "cells": [
  {
   "cell_type": "markdown",
   "metadata": {},
   "source": [
    "# This is a tutorial how to run this project (CIFAR10 - convnet)"
   ]
  },
  {
   "cell_type": "markdown",
   "metadata": {},
   "source": [
    "## Loading Modules"
   ]
  },
  {
   "cell_type": "code",
   "execution_count": 17,
   "metadata": {},
   "outputs": [],
   "source": [
    "import argparse\n",
    "\n",
    "import torch\n",
    "import torch.optim as optim\n",
    "import torch.nn as nn\n",
    "from torch.utils.data import TensorDataset\n",
    "\n",
    "import numpy as np\n",
    "import copy\n",
    "\n",
    "from models.convnet_model import convnet\n",
    "from datasets.dataset_preprocessing import dataset_preprocessing\n",
    "from utils.utils import compute_layerwise_C, compute_layerwise_C_average_norm\n",
    "\n",
    "import validate_model\n",
    "# import train_model"
   ]
  },
  {
   "cell_type": "markdown",
   "metadata": {},
   "source": [
    "## Functions"
   ]
  },
  {
   "cell_type": "code",
   "execution_count": 18,
   "metadata": {},
   "outputs": [],
   "source": [
    "def get_optimizer(opt_name,model,lr):\n",
    "    if opt_name == \"SGD\":\n",
    "        optimizer= optim.SGD(params=model.parameters(),\n",
    "                             lr=lr,\n",
    "                             )\n",
    "    elif opt_name == \"RMSprop\":\n",
    "        optimizer = optim.RMSprop(model.parameters(), lr=lr)\n",
    "    elif opt_name == \"Adam\":\n",
    "        optimizer = optim.Adam(model.parameters(), lr=lr)\n",
    "    else:\n",
    "        raise NotImplementedError(\"Optimizer not recognized. Please check spelling\")\n",
    "    return optimizer\n",
    "\n",
    "def accuracy(preds, labels):\n",
    "    \"\"\"\n",
    "    Calculate the accuracy of predictions against labels.\n",
    "\n",
    "    Parameters:\n",
    "        preds (torch.Tensor): tensor of predictions\n",
    "        labels (torch.Tensor): tensor of labels\n",
    "\n",
    "    Returns:\n",
    "        float: accuracy of predictions against labels\n",
    "    \"\"\"\n",
    "    return (preds == labels).mean()\n",
    "\n",
    "def DP_train(args, model, device, train_loader,optimizer):\n",
    "    \"\"\"\n",
    "    Train a model using the DP-SGD algorithm.\n",
    "\n",
    "    Args:\n",
    "        model: The model to be trained.\n",
    "        device: The device to use for training.\n",
    "        train_loader: The data loader for the training data.\n",
    "        optimizer: The optimizer to use.\n",
    "\n",
    "    Returns:\n",
    "        The mean accuracy of the model on the training data.\n",
    "    \"\"\"\n",
    "    model.train()\n",
    "    print(\"Training using %s optimizer\" % optimizer.__class__.__name__)\n",
    "    loss = 0\n",
    "    # Get optimizer\n",
    "\n",
    "    iteration = 0\n",
    "    losses = []\n",
    "    top1_acc = []\n",
    "\n",
    "    for batch_idx, (batch_data,batch_target) in enumerate(train_loader): # Batch loop\n",
    "        optimizer.zero_grad()\n",
    "        # copy current model\n",
    "        model_clone = convnet(num_classes=10).to(device) # get new instance\n",
    "        model_clone.load_state_dict(model.state_dict()) # copy state\n",
    "        optimizer_clone = get_optimizer(\"SGD\", model, lr =args[\"lr_initial\"])\n",
    "        optimizer_clone.load_state_dict(optimizer.state_dict())\n",
    "        \n",
    "        # batch = train_batches[indice]\n",
    "        batch = TensorDataset(batch_data,batch_target)\n",
    "        micro_train_loader = torch.utils.data.DataLoader(batch, batch_size=args[\"microbatch_size\"],\n",
    "                                                         shuffle=True) # Load each data\n",
    "        \"\"\" Original SGD updates\"\"\"\n",
    "        for _ , (data,target) in enumerate(micro_train_loader):\n",
    "            # print(\"microbatch shape\", data.shape)\n",
    "            optimizer_clone.zero_grad()\n",
    "            iteration += 1\n",
    "            data, target = data.to(device), target.to(device)\n",
    "            # compute output\n",
    "            output = model_clone(data)\n",
    "            # compute loss\n",
    "            loss = nn.CrossEntropyLoss()(output, target)\n",
    "            loss = torch.mul(loss,args[\"loss_multi\"])# Adjust losses\n",
    "            losses.append(loss.item())\n",
    "            # compute gradient\n",
    "            loss.backward()\n",
    "\n",
    "            # Add grad to sum of grad\n",
    "            \"\"\"\n",
    "            Batch clipping each \"microbatch\"\n",
    "            \"\"\"\n",
    "            # print(\"Clipping method:\", args[\"clipping\"])\n",
    "            if(args[\"clipping\"] == \"layerwise\"):\n",
    "                \"\"\"------------------------------------------------\"\"\"\n",
    "                for layer_idx, param in enumerate(model_clone.parameters()):\n",
    "                    \"\"\"\n",
    "                    Clip each layer gradients with args.max_grad_norm\n",
    "                    \"\"\"\n",
    "                    torch.nn.utils.clip_grad_norm_(param, max_norm=args[\"each_layer_C\"][layer_idx])\n",
    "\n",
    "                    \"\"\" \n",
    "                    Accumulate gradients\n",
    "                    \"\"\"\n",
    "                    if not hasattr(param, \"sum_grad\"):\n",
    "                        param.sum_grad = param.grad\n",
    "\n",
    "                    else:\n",
    "                        param.sum_grad = param.sum_grad.add(param.grad)\n",
    "\n",
    "\n",
    "            elif (args[\"clipping\"] == \"all\"):\n",
    "                \"\"\"\n",
    "                Compute flat list of gradient tensors and its norm \n",
    "                \"\"\"\n",
    "                # flat_grad_norm = calculate_full_gradient_norm(model_clone)\n",
    "                # print(\"Current norm = \", flat_grad_norm)\n",
    "                \"\"\"\n",
    "                Clip all gradients\n",
    "                \"\"\"\n",
    "                torch.nn.utils.clip_grad_norm_(optimizer_clone.param_groups[0]['params'],args[\"max_grad_norm\"])\n",
    "\n",
    "                \"\"\"\n",
    "                Accumulate gradients\n",
    "                \"\"\"\n",
    "                for param in model_clone.parameters():\n",
    "                    if not hasattr(param, \"sum_grad\"):\n",
    "                        param.sum_grad = param.grad\n",
    "                    else:\n",
    "                        param.sum_grad = param.sum_grad.add(param.grad)\n",
    "            else:\n",
    "                raise ValueError(\"Invalid clipping mode, available options: all, layerwise\")\n",
    "\n",
    "        # Copy sum of clipped grad to the model gradient\n",
    "        for net1, net2 in zip(model.named_parameters(), model_clone.named_parameters()): # (layer_name, value) for each layer\n",
    "            # Option 1:Get the sum of gradients\n",
    "            net1[1].grad = net2[1].sum_grad\n",
    "            # Option 2: Averaging the gradients\n",
    "            # net1[1].grad = net2[1].sum_grad.div(len(micro_train_loader)) \n",
    "\n",
    "        # Reset sum_grad\n",
    "        for param in model_clone.parameters():\n",
    "            delattr(param, 'sum_grad')\n",
    "\n",
    "        # Update model\n",
    "        if(args[\"noise_multiplier\"] > 0):\n",
    "            for layer_idx, (name,param) in enumerate(model.named_parameters()):\n",
    "                \"\"\"\n",
    "                Add Gaussian noise to gradients\n",
    "                \"\"\"\n",
    "                \"\"\"--------------STATIC NOISE-----------------\"\"\"\n",
    "                # dist = torch.distributions.normal.Normal(torch.tensor(0.0),\n",
    "                #                                          torch.tensor((2 * args.noise_multiplier *  args.max_grad_norm)))\n",
    "                \"\"\"--------------LAYERWISE NOISE-----------------\"\"\"\n",
    "\n",
    "                if(args[\"clipping\"]==\"layerwise\"):\n",
    "                    dist = torch.distributions.normal.Normal(torch.tensor(0.0),\n",
    "                                                         torch.tensor((2 * args[\"each_layer_C\"][layer_idx] *  args[\"noise_multiplier\"])))\n",
    "                elif(args[\"clipping\"]==\"all\"):\n",
    "                    dist = torch.distributions.normal.Normal(torch.tensor(0.0),\n",
    "                    torch.tensor((2 * args[\"max_grad_norm\"] * args[\"noise_multiplier\"])))\n",
    "                # TODO: IC => N(0,C^2sigma^2), BC  => N(0, 4C^2sigma^2)\n",
    "                noise = dist.rsample(param.grad.shape).to(device=device)\n",
    "\n",
    "                # Compute noisy grad\n",
    "                param.grad = (param.grad + noise).div(len(micro_train_loader))\n",
    "                \n",
    "\n",
    "        # Update model with noisy grad\n",
    "        optimizer.step()\n",
    "\n",
    "        \"\"\"\n",
    "        Calculate top 1 acc\n",
    "        \"\"\"\n",
    "        batch_data, batch_target = batch_data.to(device), batch_target.to(device)\n",
    "        output = model(batch_data)\n",
    "        preds = np.argmax(output.detach().cpu().numpy(), axis=1)\n",
    "        labels = batch_target.detach().cpu().numpy()\n",
    "        acc1 = accuracy(preds, labels)\n",
    "        top1_acc.append(acc1)\n",
    "        if batch_idx % (args[\"log_interval\"]*len(train_loader)) == 0:\n",
    "            print(\n",
    "                f\"Loss: {np.mean(losses):.6f} \"\n",
    "                f\"Acc@1: {np.mean(top1_acc):.6f} \"\n",
    "            )\n",
    "    return np.mean(top1_acc)"
   ]
  },
  {
   "cell_type": "markdown",
   "metadata": {},
   "source": [
    "## Data Preprocessing"
   ]
  },
  {
   "cell_type": "code",
   "execution_count": 19,
   "metadata": {},
   "outputs": [
    {
     "name": "stdout",
     "output_type": "stream",
     "text": [
      "Processing Cifar10 dataset\n",
      "Sampling mode: subsampling\n",
      "Files already downloaded and verified\n",
      "Files already downloaded and verified\n",
      "Finished normalizing dataset.\n",
      "\n",
      "Training Set:\n",
      "Image batch dimensions: torch.Size([64, 3, 32, 32])\n",
      "Image label dimensions: torch.Size([64])\n",
      "tensor([3, 3, 5, 9, 9, 1, 1, 6, 2, 7])\n",
      "\n",
      "Testing Set:\n",
      "Image batch dimensions: torch.Size([1000, 3, 32, 32])\n",
      "Image label dimensions: torch.Size([1000])\n",
      "tensor([3, 8, 8, 0, 6, 6, 1, 6, 3, 1])\n"
     ]
    }
   ],
   "source": [
    "dataset_name = 'CIFAR10'\n",
    "train_batchsize = 64\n",
    "test_batchsize = 1000\n",
    "train_kwargs = {'batch_size': train_batchsize,  'shuffle': True}\n",
    "test_kwargs = {'batch_size': test_batchsize, 'shuffle': False}\n",
    "mode = \"subsampling\"\n",
    "########## CUDA ############\n",
    "use_cuda = True\n",
    "if use_cuda:\n",
    "    cuda_kwargs = {'num_workers': 2,\n",
    "                    'pin_memory': True,\n",
    "                    }\n",
    "    train_kwargs.update(cuda_kwargs)\n",
    "    test_kwargs.update(cuda_kwargs)\n",
    "    \n",
    "device = torch.device(\"cuda\" if use_cuda else \"cpu\")\n",
    "######### Get the dataset loader ##########\n",
    "C_dataset_loader, train_loader, test_loader, dataset_size = dataset_preprocessing(dataset_name, train_kwargs, test_kwargs, mode)"
   ]
  },
  {
   "cell_type": "markdown",
   "metadata": {},
   "source": [
    "## Model"
   ]
  },
  {
   "cell_type": "code",
   "execution_count": 20,
   "metadata": {},
   "outputs": [],
   "source": [
    "model = convnet(num_classes=10).to(device)"
   ]
  },
  {
   "cell_type": "markdown",
   "metadata": {},
   "source": [
    "##  Optimizer"
   ]
  },
  {
   "cell_type": "code",
   "execution_count": 21,
   "metadata": {},
   "outputs": [],
   "source": [
    "optimizer_name = \"SGD\"\n",
    "learning_rate = 0.01\n",
    "optimizer = get_optimizer(optimizer_name, model, learning_rate)"
   ]
  },
  {
   "cell_type": "markdown",
   "metadata": {},
   "source": [
    "## Arguments"
   ]
  },
  {
   "cell_type": "code",
   "execution_count": 22,
   "metadata": {},
   "outputs": [
    {
     "name": "stdout",
     "output_type": "stream",
     "text": [
      "Generating layerwise C values\n"
     ]
    }
   ],
   "source": [
    "const_C = 10\n",
    "lr_initial = 0.1\n",
    "# Get layerwise clipping constants\n",
    "# copy current model\n",
    "dummy_model = convnet(num_classes=10).to(device) # get new instance\n",
    "dummy_model.load_state_dict(model.state_dict()) # copy state\n",
    "dummy_optimizer = get_optimizer(\"SGD\", model, lr =lr_initial)\n",
    "dummy_optimizer.load_state_dict(optimizer.state_dict())\n",
    "\n",
    "at_epoch = 1\n",
    "each_layer_C = compute_layerwise_C(C_dataset_loader, dummy_model, at_epoch, device,\n",
    "                                                        dummy_optimizer, const_C ,True)\n",
    "args = dict({\n",
    "\"1\": { \"lr_initial\": lr_initial, \n",
    "      \"microbatch_size\": train_batchsize,\n",
    "      \"loss_multi\": 1,\n",
    "      \"clipping\": \"layerwise\",\n",
    "      \"decay\": 0.9, \n",
    "      \"noise_multiplier\": 0.001, \n",
    "      \"max_grad_norm\": const_C,\n",
    "      \"each_layer_C\": each_layer_C,\n",
    "      \"log_interval\": 1}\n",
    "})"
   ]
  },
  {
   "cell_type": "markdown",
   "metadata": {},
   "source": [
    "## Training"
   ]
  },
  {
   "cell_type": "code",
   "execution_count": 25,
   "metadata": {},
   "outputs": [
    {
     "name": "stdout",
     "output_type": "stream",
     "text": [
      "epoch: 0\n",
      "Training using SGD optimizer\n",
      "Loss: 2.296213 Acc@1: 0.156250 \n",
      "\tTesting accuracy:\tLoss: 2.149885 Acc@1: 0.186500 \n",
      "epoch: 1\n",
      "Training using SGD optimizer\n",
      "Loss: 2.191972 Acc@1: 0.140625 \n",
      "\tTesting accuracy:\tLoss: 2.135762 Acc@1: 0.185800 \n",
      "epoch: 2\n",
      "Training using SGD optimizer\n",
      "Loss: 2.138676 Acc@1: 0.281250 \n",
      "\tTesting accuracy:\tLoss: 1.950133 Acc@1: 0.249000 \n",
      "epoch: 3\n",
      "Training using SGD optimizer\n",
      "Loss: 2.053456 Acc@1: 0.281250 \n",
      "\tTesting accuracy:\tLoss: 1.897092 Acc@1: 0.282300 \n",
      "epoch: 4\n",
      "Training using SGD optimizer\n",
      "Loss: 1.870499 Acc@1: 0.296875 \n",
      "\tTesting accuracy:\tLoss: 1.870864 Acc@1: 0.305700 \n",
      "epoch: 5\n",
      "Training using SGD optimizer\n",
      "Loss: 1.755528 Acc@1: 0.328125 \n",
      "\tTesting accuracy:\tLoss: 1.973768 Acc@1: 0.272300 \n",
      "epoch: 6\n",
      "Training using SGD optimizer\n",
      "Loss: 1.742267 Acc@1: 0.312500 \n",
      "\tTesting accuracy:\tLoss: 1.791249 Acc@1: 0.316300 \n",
      "epoch: 7\n",
      "Training using SGD optimizer\n",
      "Loss: 1.758538 Acc@1: 0.406250 \n",
      "\tTesting accuracy:\tLoss: 1.740989 Acc@1: 0.339500 \n",
      "epoch: 8\n",
      "Training using SGD optimizer\n",
      "Loss: 1.680236 Acc@1: 0.453125 \n",
      "\tTesting accuracy:\tLoss: 1.871442 Acc@1: 0.310200 \n",
      "epoch: 9\n",
      "Training using SGD optimizer\n",
      "Loss: 1.788657 Acc@1: 0.375000 \n",
      "\tTesting accuracy:\tLoss: 1.877263 Acc@1: 0.305800 \n"
     ]
    }
   ],
   "source": [
    "train_accuracy = []\n",
    "test_accuracy = []\n",
    "epochs = 10\n",
    "for epoch in range(epochs):\n",
    "    print(\"epoch:\", epoch)\n",
    "    train_accuracy.append(DP_train(args[\"1\"], model, device, train_loader, optimizer))\n",
    "    test_accuracy.append(validate_model.test(model, device, test_loader))"
   ]
  }
 ],
 "metadata": {
  "kernelspec": {
   "display_name": "Python 3",
   "language": "python",
   "name": "python3"
  },
  "language_info": {
   "codemirror_mode": {
    "name": "ipython",
    "version": 3
   },
   "file_extension": ".py",
   "mimetype": "text/x-python",
   "name": "python",
   "nbconvert_exporter": "python",
   "pygments_lexer": "ipython3",
   "version": "3.12.4"
  }
 },
 "nbformat": 4,
 "nbformat_minor": 2
}
